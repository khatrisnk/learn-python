{
  "cells": [
    {
      "cell_type": "markdown",
      "metadata": {
        "id": "view-in-github",
        "colab_type": "text"
      },
      "source": [
        "<a href=\"https://colab.research.google.com/github/khatrisnk/learn-python/blob/main/Python_Crash_Course_1.ipynb\" target=\"_parent\"><img src=\"https://colab.research.google.com/assets/colab-badge.svg\" alt=\"Open In Colab\"/></a>"
      ]
    },
    {
      "cell_type": "markdown",
      "metadata": {
        "id": "wP2i3LIhxbRB"
      },
      "source": [
        "##Python Crash Course 1\n",
        "\n",
        "**AGENDA**\n",
        "- Introduction to Jupyter notebooks for Python\n",
        "- Basic Syntax and Operation in Python\n",
        "- Data Structures in Python\n",
        "- Control Structures and functions in Python"
      ]
    },
    {
      "cell_type": "markdown",
      "metadata": {
        "id": "37qKXRo92EP2"
      },
      "source": [
        "### Basic Syntax and Opertaions in Python"
      ]
    },
    {
      "cell_type": "code",
      "execution_count": null,
      "metadata": {
        "id": "8pbKpcWHy8qg"
      },
      "outputs": [],
      "source": [
        "# Basic arithmetic operations such as +, -, *, %, **\n",
        "a = 5 + 10\n",
        "b = 19 - 6\n",
        "c = 61 * 2\n",
        "d = 45 / 9\n",
        "e = 12 % 10\n",
        "f = 3 ** 3"
      ]
    },
    {
      "cell_type": "code",
      "execution_count": null,
      "metadata": {
        "colab": {
          "base_uri": "https://localhost:8080/"
        },
        "id": "LEG7ZXqk2iDC",
        "outputId": "b84a4445-9a03-4d1c-eab8-1fb147747284"
      },
      "outputs": [
        {
          "name": "stdout",
          "output_type": "stream",
          "text": [
            "15\n",
            "The value of b is 13, c is 122, d is 5.0\n",
            "The values of e and f are 2 and 27 respectively\n"
          ]
        }
      ],
      "source": [
        "# print -- inline comment\n",
        "'''\n",
        "Let's try differnt types of comments\n",
        "-> This is example of multi line or block comments\n",
        "'''\n",
        "print(a)\n",
        "print(f\"The value of b is {b}, c is {c}, d is {d}\")\n",
        "print(\"The values of e and f are {} and {} respectively\".format(e, f))"
      ]
    },
    {
      "cell_type": "code",
      "execution_count": null,
      "metadata": {
        "colab": {
          "base_uri": "https://localhost:8080/"
        },
        "id": "s2hgIjYU28wx",
        "outputId": "45fdd5f2-8a6f-4e88-af7a-44b0088c9318"
      },
      "outputs": [
        {
          "name": "stdout",
          "output_type": "stream",
          "text": [
            "Now, this is a string variable\n"
          ]
        }
      ],
      "source": [
        "str_var = \"Now, this is a string variable\"\n",
        "print(str_var)\n",
        "bool_var = True\n",
        "complex_var = 10 + 2j"
      ]
    },
    {
      "cell_type": "code",
      "execution_count": null,
      "metadata": {
        "colab": {
          "base_uri": "https://localhost:8080/"
        },
        "id": "f0vOggrG3rmD",
        "outputId": "39e28edc-4b53-4637-9efe-cd5eb516b95c"
      },
      "outputs": [
        {
          "name": "stdout",
          "output_type": "stream",
          "text": [
            "Type of variable a is: <class 'int'>\n",
            "Type of variable d is: <class 'float'>\n",
            "Type of variable str is: <class 'str'>\n",
            "Type of variable (e,f) is: <class 'tuple'>\n",
            "Type of variable bool_var is: <class 'bool'>\n",
            "Type of variable complex_var is: <class 'complex'>\n"
          ]
        }
      ],
      "source": [
        "\"\"\"\n",
        "Let's see basic data types in Python\n",
        "\"\"\"\n",
        "print(f\"Type of variable a is: {type(a)}\")\n",
        "print(f\"Type of variable d is: {type(d)}\")\n",
        "print(f\"Type of variable str is: {type(str_var)}\")\n",
        "print(f\"Type of variable (e,f) is: {type((e,f))}\")\n",
        "print(f\"Type of variable bool_var is: {type(bool_var)}\")\n",
        "print(f\"Type of variable complex_var is: {type(complex_var)}\")"
      ]
    },
    {
      "cell_type": "code",
      "execution_count": null,
      "metadata": {
        "colab": {
          "base_uri": "https://localhost:8080/"
        },
        "id": "VGAU0zFf4CHZ",
        "outputId": "fdd9d7f3-352b-4b14-ca34-fdd4dc22e842"
      },
      "outputs": [
        {
          "name": "stdout",
          "output_type": "stream",
          "text": [
            "Enter your first name: Adi\n",
            "Hey! Adi\n"
          ]
        }
      ],
      "source": [
        "# Taking input in Python\n",
        "name = input(\"Enter your first name: \")\n",
        "print(\"Hey! \" + name)"
      ]
    },
    {
      "cell_type": "code",
      "execution_count": null,
      "metadata": {
        "colab": {
          "base_uri": "https://localhost:8080/"
        },
        "id": "eo5-0Q3u5g0q",
        "outputId": "27bde5c9-1b67-4618-f49b-81f1c5ab141f"
      },
      "outputs": [
        {
          "name": "stdout",
          "output_type": "stream",
          "text": [
            "Enter your age: 30\n",
            "Enter your name: Ram\n",
            "Hey! Ram Next year you will be 31\n"
          ]
        }
      ],
      "source": [
        "age = int(input(\"Enter your age: \"))\n",
        "new = str(age + 1)\n",
        "name = input(\"Enter your name: \")\n",
        "print(\"Hey! \" + name + \" Next year you will be \" + new)"
      ]
    },
    {
      "cell_type": "markdown",
      "metadata": {
        "id": "rextkCI48UHs"
      },
      "source": [
        "### Data Structures in Python"
      ]
    },
    {
      "cell_type": "code",
      "execution_count": null,
      "metadata": {
        "colab": {
          "base_uri": "https://localhost:8080/"
        },
        "id": "KvzESz725nPL",
        "outputId": "20665440-9938-4e9f-aab4-e251628eefe4"
      },
      "outputs": [
        {
          "name": "stdout",
          "output_type": "stream",
          "text": [
            "<class 'list'>\n"
          ]
        }
      ],
      "source": [
        "# This is a list\n",
        "new_list = [1, 2, \"string\"]\n",
        "print(type(new_list))"
      ]
    },
    {
      "cell_type": "code",
      "execution_count": null,
      "metadata": {
        "colab": {
          "base_uri": "https://localhost:8080/"
        },
        "id": "fw2IVb1v6syz",
        "outputId": "570debe3-0a96-4b57-98cf-69d156073a2c"
      },
      "outputs": [
        {
          "name": "stdout",
          "output_type": "stream",
          "text": [
            "<class 'tuple'>\n"
          ]
        }
      ],
      "source": [
        "# This is a tuple\n",
        "new_tuple = (0, \"string\")\n",
        "print(type(new_tuple))"
      ]
    },
    {
      "cell_type": "code",
      "execution_count": null,
      "metadata": {
        "colab": {
          "base_uri": "https://localhost:8080/"
        },
        "id": "p2hxdd468qUb",
        "outputId": "5154ae0a-b41c-4e9e-f2a0-ec5af49859be"
      },
      "outputs": [
        {
          "name": "stdout",
          "output_type": "stream",
          "text": [
            "{1: 'Value1', 2: 'Value2', 3: 'Value3'}\n",
            "<class 'dict'>\n"
          ]
        }
      ],
      "source": [
        "# This is a dictionary\n",
        "new_dict = { 1 : \"Value1\",\n",
        "             2 : \"Value2\",\n",
        "             3 : \"Value3\"\n",
        "           }\n",
        "print(new_dict)\n",
        "print(type(new_dict))           "
      ]
    },
    {
      "cell_type": "code",
      "execution_count": null,
      "metadata": {
        "colab": {
          "base_uri": "https://localhost:8080/"
        },
        "id": "hGDQo6128--k",
        "outputId": "b364cd30-859c-417a-ae72-0946b02f429c"
      },
      "outputs": [
        {
          "name": "stdout",
          "output_type": "stream",
          "text": [
            "{1, 4, 9, 16, 25}\n",
            "<class 'set'>\n"
          ]
        }
      ],
      "source": [
        "# This is a set\n",
        "setA = set([1, 1, 4, 4, 4, 9, 9, 16, 25, 25, 25])\n",
        "print(setA)\n",
        "print(type(setA))"
      ]
    },
    {
      "cell_type": "markdown",
      "metadata": {
        "id": "ZVQC77U69srR"
      },
      "source": [
        "### Control Structures and functions in Python"
      ]
    },
    {
      "cell_type": "code",
      "execution_count": null,
      "metadata": {
        "colab": {
          "base_uri": "https://localhost:8080/"
        },
        "id": "PSllaqyo9O1L",
        "outputId": "1f2f4267-05cc-4ab0-90f4-3c7981346d13"
      },
      "outputs": [
        {
          "name": "stdout",
          "output_type": "stream",
          "text": [
            "<class 'NoneType'>\n",
            "A\n"
          ]
        }
      ],
      "source": [
        "# if-elif-else\n",
        "score = 85\n",
        "grade = None\n",
        "print(type(None))\n",
        "\n",
        "if score >= 80:\n",
        "  grade = 'A'\n",
        "elif score >= 60:\n",
        "  grade = 'B'\n",
        "elif score >= 40:\n",
        "  grade = 'C'\n",
        "else:\n",
        "  grade = 'F'\n",
        "\n",
        "print(grade)"
      ]
    },
    {
      "cell_type": "code",
      "execution_count": null,
      "metadata": {
        "colab": {
          "base_uri": "https://localhost:8080/"
        },
        "id": "mIlc3V7K9wkF",
        "outputId": "eea77d71-bf86-4c94-e764-9e3d219edce6"
      },
      "outputs": [
        {
          "name": "stdout",
          "output_type": "stream",
          "text": [
            "18\n",
            "19\n",
            "20\n",
            "21\n",
            "22\n",
            "23\n",
            "24\n"
          ]
        }
      ],
      "source": [
        "# loops\n",
        "# for loops\n",
        "age = 20\n",
        "\n",
        "for age in range(18, 25):\n",
        "  print(age)\n"
      ]
    },
    {
      "cell_type": "code",
      "execution_count": null,
      "metadata": {
        "colab": {
          "base_uri": "https://localhost:8080/"
        },
        "id": "Sjn65m9uEQOd",
        "outputId": "dd290f85-0565-4992-b135-34744923ecc3"
      },
      "outputs": [
        {
          "name": "stdout",
          "output_type": "stream",
          "text": [
            "2\n"
          ]
        }
      ],
      "source": [
        "vowels = ['a', 'e', 'i', 'o', 'u']\n",
        "text = \"Hello\"\n",
        "vowel_counter = 0\n",
        "\n",
        "for ch in text:\n",
        "  if ch in vowels:\n",
        "    vowel_counter += 1\n",
        "\n",
        "print(vowel_counter)"
      ]
    },
    {
      "cell_type": "code",
      "execution_count": null,
      "metadata": {
        "colab": {
          "base_uri": "https://localhost:8080/"
        },
        "id": "45m-xpxUEW-i",
        "outputId": "91354581-34ca-4400-dbdb-76cee375e2c5"
      },
      "outputs": [
        {
          "name": "stdout",
          "output_type": "stream",
          "text": [
            "8 is greater than 5\n",
            "7 is greater than 5\n",
            "6 is greater than 5\n"
          ]
        }
      ],
      "source": [
        "# while loops\n",
        "a = 8\n",
        "while (a > 5):\n",
        "  print(f\"{a} is greater than 5\")\n",
        "  a -= 1"
      ]
    },
    {
      "cell_type": "code",
      "execution_count": null,
      "metadata": {
        "colab": {
          "base_uri": "https://localhost:8080/"
        },
        "id": "oBY5Kk3i90X7",
        "outputId": "41564027-cd3c-46fb-d6f1-2b2ef57f9429"
      },
      "outputs": [
        {
          "name": "stdout",
          "output_type": "stream",
          "text": [
            "[1, 8, 27, 343]\n",
            "[8]\n",
            "[1, 8, 9, 49]\n"
          ]
        }
      ],
      "source": [
        "# List comprehension\n",
        "num_list = [1, 2, 3, 7]\n",
        "cube_list = [i**3 for i in num_list]\n",
        "print(cube_list)\n",
        "\n",
        "# conditionals in list comprehensions\n",
        "even_cubes = [i**3 for i in num_list if i%2 == 0]\n",
        "print(even_cubes)\n",
        "\n",
        "sq_cubes = [i**3 if i%2==0 else i**2 for i in num_list]\n",
        "print(sq_cubes)"
      ]
    },
    {
      "cell_type": "code",
      "execution_count": null,
      "metadata": {
        "colab": {
          "base_uri": "https://localhost:8080/"
        },
        "id": "LF20Yb1399qs",
        "outputId": "3af268d0-329d-4e25-e00f-9fbe0ca45c60"
      },
      "outputs": [
        {
          "name": "stdout",
          "output_type": "stream",
          "text": [
            "1\n",
            "8\n",
            "9\n",
            "49\n"
          ]
        }
      ],
      "source": [
        "# Functions\n",
        "def my_func(i):\n",
        "  if i%2 == 0:\n",
        "    return i**3\n",
        "  else:\n",
        "    return i**2\n",
        "\n",
        "for i in num_list:\n",
        "  print(my_func(i))"
      ]
    },
    {
      "cell_type": "code",
      "execution_count": null,
      "metadata": {
        "colab": {
          "base_uri": "https://localhost:8080/"
        },
        "id": "3h676VOk-TAe",
        "outputId": "c1a64d24-973c-4539-c09d-8a29244e9d57"
      },
      "outputs": [
        {
          "name": "stdout",
          "output_type": "stream",
          "text": [
            "1\n",
            "8\n",
            "9\n",
            "49\n"
          ]
        }
      ],
      "source": [
        "# Lambda functions - is an anonymous function, which means that it is a function without a name. \n",
        "transform_x = lambda x : x**3 if(x%2 == 0) else x**2\n",
        "\n",
        "for i in num_list:\n",
        "  print(transform_x(i))"
      ]
    },
    {
      "cell_type": "code",
      "execution_count": null,
      "metadata": {
        "colab": {
          "base_uri": "https://localhost:8080/"
        },
        "id": "SItUhB0f-VAb",
        "outputId": "c9cef7f9-d00e-4592-a050-9010456c9ce6"
      },
      "outputs": [
        {
          "name": "stdout",
          "output_type": "stream",
          "text": [
            "Transforming num_list using map function : [1, 8, 9, 49]\n",
            "Extracting odd elements using filter : [1, 3, 7]\n",
            "The maximum element of the list is : 7\n"
          ]
        }
      ],
      "source": [
        "# Map, Filter, Reduce\n",
        "\"\"\"\n",
        "Map is a function that works like list comprehensions and for loops. \n",
        "It is used when you need to map or implement functions \n",
        "on various elements at the same time.\n",
        "\"\"\"\n",
        "print(\"Transforming num_list using map function : \", end=\"\")\n",
        "print(list(map(transform_x, num_list)))\n",
        "\n",
        "\n",
        "\"\"\"\n",
        "Filter is a similar operation, but it requires the function to look for a condition \n",
        "and then, only returns those elements from the collection that satisfy the condition. \n",
        "\"\"\"\n",
        "print(\"Extracting odd elements using filter : \", end=\"\")\n",
        "print(list(filter(lambda x: x%2 !=0, num_list)))\n",
        "\n",
        "\"\"\"\n",
        "'Reduce' is an operation that breaks down the entire process \n",
        "into pair-wise operations \n",
        "and uses the result from each operation, with the successive element.\n",
        "\"\"\"\n",
        "from functools import reduce\n",
        "\n",
        "# using reduce to compute maximum element from list\n",
        "print(\"The maximum element of the list is : \", end=\"\")\n",
        "print(reduce(lambda a, b: a if a > b else b, num_list))"
      ]
    },
    {
      "cell_type": "markdown",
      "metadata": {
        "id": "19trRpfz-kNA"
      },
      "source": [
        "### Ungraded Assignments\n",
        "1. Python program to print Fibonacci series of any input 'n'\n",
        "2. Python program to check if a string is Palindrome or not"
      ]
    },
    {
      "cell_type": "code",
      "execution_count": null,
      "metadata": {
        "id": "kSzoa_Mt-XD1",
        "outputId": "94b23091-575a-4031-8675-c95109050ae8"
      },
      "outputs": [
        {
          "data": {
            "text/plain": [
              "5"
            ]
          },
          "execution_count": 2,
          "metadata": {},
          "output_type": "execute_result"
        }
      ],
      "source": [
        "class Airthmetics:\n",
        "    def add(self, a,b):\n",
        "        return a+b\n",
        "    \n",
        "    def multiplication(self, a,b):\n",
        "        return a*b\n",
        "    \n",
        "\n",
        "arth = Airthmetics()\n",
        "arth.add(2,3)"
      ]
    },
    {
      "cell_type": "code",
      "execution_count": null,
      "metadata": {
        "id": "3o9YUN5RLd0v"
      },
      "outputs": [],
      "source": [
        "import numpy as np"
      ]
    },
    {
      "cell_type": "code",
      "execution_count": null,
      "metadata": {
        "id": "s7yly3ZcLd0v",
        "outputId": "c90d3583-69dd-4503-cc4e-9104a75dd15e"
      },
      "outputs": [
        {
          "data": {
            "text/plain": [
              "array([[1, 0],\n",
              "       [0, 1]])"
            ]
          },
          "execution_count": 5,
          "metadata": {},
          "output_type": "execute_result"
        }
      ],
      "source": [
        "np.diag([1,1])"
      ]
    },
    {
      "cell_type": "code",
      "execution_count": null,
      "metadata": {
        "id": "55ufwwnILd0v",
        "outputId": "53fdd937-43a6-44e2-e5bd-4c26e7f90258"
      },
      "outputs": [
        {
          "data": {
            "text/plain": [
              "array([[[1., 1., 1.],\n",
              "        [1., 1., 1.]]])"
            ]
          },
          "execution_count": 6,
          "metadata": {},
          "output_type": "execute_result"
        }
      ],
      "source": [
        "np.ones((1, 2, 3))"
      ]
    },
    {
      "cell_type": "code",
      "execution_count": null,
      "metadata": {
        "id": "jHvqWalxLd0v",
        "outputId": "bec4a47c-706e-4790-db65-f8847455a47f"
      },
      "outputs": [
        {
          "data": {
            "text/plain": [
              "array([[[1.]]])"
            ]
          },
          "execution_count": 7,
          "metadata": {},
          "output_type": "execute_result"
        }
      ],
      "source": [
        "np.ones((1, 1, 1))"
      ]
    },
    {
      "cell_type": "code",
      "execution_count": null,
      "metadata": {
        "id": "ihfEVUF3Ld0w"
      },
      "outputs": [],
      "source": [
        "?np.full"
      ]
    },
    {
      "cell_type": "code",
      "execution_count": null,
      "metadata": {
        "id": "tAzJE3ENLd0w"
      },
      "outputs": [],
      "source": [
        "a = np.arange(20).reshape((4,5))"
      ]
    },
    {
      "cell_type": "code",
      "execution_count": null,
      "metadata": {
        "id": "TflPxocmLd0w",
        "outputId": "7024e4f7-22e4-406d-8d86-0e3cfa672f61"
      },
      "outputs": [
        {
          "data": {
            "text/plain": [
              "array([[ 0,  1,  2,  3,  4],\n",
              "       [ 5,  6,  7,  8,  9],\n",
              "       [10, 11, 12, 13, 14],\n",
              "       [15, 16, 17, 18, 19]])"
            ]
          },
          "execution_count": 30,
          "metadata": {},
          "output_type": "execute_result"
        }
      ],
      "source": [
        "a"
      ]
    },
    {
      "cell_type": "code",
      "execution_count": null,
      "metadata": {
        "id": "ZXqprZyWLd0w",
        "outputId": "e0a65654-dabc-4a95-d03c-a344da664d4a"
      },
      "outputs": [
        {
          "ename": "ValueError",
          "evalue": "cannot reshape array of size 20 into shape (0,4)",
          "output_type": "error",
          "traceback": [
            "\u001b[0;31m---------------------------------------------------------------------------\u001b[0m",
            "\u001b[0;31mValueError\u001b[0m                                Traceback (most recent call last)",
            "\u001b[0;32m/var/folders/7_/8px52ys552g8ncjsx6czydyh0000gn/T/ipykernel_17407/234301367.py\u001b[0m in \u001b[0;36m<module>\u001b[0;34m\u001b[0m\n\u001b[0;32m----> 1\u001b[0;31m \u001b[0ma\u001b[0m\u001b[0;34m.\u001b[0m\u001b[0mreshape\u001b[0m\u001b[0;34m(\u001b[0m\u001b[0;34m(\u001b[0m\u001b[0;36m0\u001b[0m\u001b[0;34m,\u001b[0m \u001b[0mlen\u001b[0m\u001b[0;34m(\u001b[0m\u001b[0ma\u001b[0m\u001b[0;34m)\u001b[0m\u001b[0;34m)\u001b[0m\u001b[0;34m)\u001b[0m\u001b[0;34m\u001b[0m\u001b[0;34m\u001b[0m\u001b[0m\n\u001b[0m",
            "\u001b[0;31mValueError\u001b[0m: cannot reshape array of size 20 into shape (0,4)"
          ]
        }
      ],
      "source": [
        "a.reshape((0, len(a)))"
      ]
    },
    {
      "cell_type": "code",
      "execution_count": null,
      "metadata": {
        "id": "TaGv2FtRLd0x",
        "outputId": "dba5e352-a833-4c9b-8a5d-3b31178aa662"
      },
      "outputs": [
        {
          "ename": "TypeError",
          "evalue": "'tuple' object is not callable",
          "output_type": "error",
          "traceback": [
            "\u001b[0;31m---------------------------------------------------------------------------\u001b[0m",
            "\u001b[0;31mTypeError\u001b[0m                                 Traceback (most recent call last)",
            "\u001b[0;32m/var/folders/7_/8px52ys552g8ncjsx6czydyh0000gn/T/ipykernel_17407/1137232425.py\u001b[0m in \u001b[0;36m<module>\u001b[0;34m\u001b[0m\n\u001b[0;32m----> 1\u001b[0;31m \u001b[0ma\u001b[0m\u001b[0;34m.\u001b[0m\u001b[0mreshape\u001b[0m\u001b[0;34m(\u001b[0m\u001b[0;34m(\u001b[0m\u001b[0ma\u001b[0m\u001b[0;34m.\u001b[0m\u001b[0mshape\u001b[0m\u001b[0;34m[\u001b[0m\u001b[0;36m1\u001b[0m\u001b[0;34m]\u001b[0m\u001b[0;34m,\u001b[0m \u001b[0ma\u001b[0m\u001b[0;34m.\u001b[0m\u001b[0mshape\u001b[0m\u001b[0;34m(\u001b[0m\u001b[0;36m0\u001b[0m\u001b[0;34m)\u001b[0m\u001b[0;34m)\u001b[0m\u001b[0;34m)\u001b[0m\u001b[0;34m\u001b[0m\u001b[0;34m\u001b[0m\u001b[0m\n\u001b[0m",
            "\u001b[0;31mTypeError\u001b[0m: 'tuple' object is not callable"
          ]
        }
      ],
      "source": [
        "a.reshape((a.shape[1], a.shape(0)))"
      ]
    },
    {
      "cell_type": "code",
      "execution_count": null,
      "metadata": {
        "id": "6oTi0kSjLd0x"
      },
      "outputs": [],
      "source": [
        "x = a.shape[0]"
      ]
    },
    {
      "cell_type": "code",
      "execution_count": null,
      "metadata": {
        "id": "Dt4oUjjaLd0x"
      },
      "outputs": [],
      "source": [
        "y = a.shape[1]"
      ]
    },
    {
      "cell_type": "code",
      "execution_count": null,
      "metadata": {
        "id": "-NKxoqDnLd0x",
        "outputId": "d9353c48-0a08-4918-c2b9-91af389d4544"
      },
      "outputs": [
        {
          "data": {
            "text/plain": [
              "array([[ 0,  1,  2,  3],\n",
              "       [ 4,  5,  6,  7],\n",
              "       [ 8,  9, 10, 11],\n",
              "       [12, 13, 14, 15],\n",
              "       [16, 17, 18, 19]])"
            ]
          },
          "execution_count": 23,
          "metadata": {},
          "output_type": "execute_result"
        }
      ],
      "source": [
        "x = a.shape[0]\n",
        "y = a.shape[1]\n",
        "a.reshape((y,x))"
      ]
    },
    {
      "cell_type": "code",
      "execution_count": null,
      "metadata": {
        "id": "GIKw4k5vLd0y",
        "outputId": "e84af7f1-3e74-4f70-982e-47886187eb0c"
      },
      "outputs": [
        {
          "data": {
            "text/plain": [
              "array([[ 0,  1,  2,  3,  4],\n",
              "       [ 5,  6,  7,  8,  9],\n",
              "       [10, 11, 12, 13, 14],\n",
              "       [15, 16, 17, 18, 19]])"
            ]
          },
          "execution_count": 25,
          "metadata": {},
          "output_type": "execute_result"
        }
      ],
      "source": [
        "a.reshape([x,y])"
      ]
    },
    {
      "cell_type": "code",
      "execution_count": null,
      "metadata": {
        "id": "ZQJWm7LzLd0y",
        "outputId": "09305d0d-c55f-48b5-8d13-9ae2b0b7d3a0"
      },
      "outputs": [
        {
          "data": {
            "text/plain": [
              "array([[ 0,  1,  2,  3,  4],\n",
              "       [ 5,  6,  7,  8,  9],\n",
              "       [10, 11, 12, 13, 14],\n",
              "       [15, 16, 17, 18, 19]])"
            ]
          },
          "execution_count": 27,
          "metadata": {},
          "output_type": "execute_result"
        }
      ],
      "source": [
        "a"
      ]
    },
    {
      "cell_type": "code",
      "execution_count": null,
      "metadata": {
        "id": "cJ9Y9BMuLd0y",
        "outputId": "8e41bcc9-43fa-4e97-bb16-2ef3d6a2e7c6"
      },
      "outputs": [
        {
          "data": {
            "text/plain": [
              "array([[ 0],\n",
              "       [ 1],\n",
              "       [ 2],\n",
              "       [ 3],\n",
              "       [ 4],\n",
              "       [ 5],\n",
              "       [ 6],\n",
              "       [ 7],\n",
              "       [ 8],\n",
              "       [ 9],\n",
              "       [10],\n",
              "       [11],\n",
              "       [12],\n",
              "       [13],\n",
              "       [14],\n",
              "       [15],\n",
              "       [16],\n",
              "       [17],\n",
              "       [18],\n",
              "       [19]])"
            ]
          },
          "execution_count": 28,
          "metadata": {},
          "output_type": "execute_result"
        }
      ],
      "source": [
        "a.reshape((-1,1))"
      ]
    },
    {
      "cell_type": "code",
      "execution_count": null,
      "metadata": {
        "id": "J8-hXso6Ld0y",
        "outputId": "445a0e02-5e99-4c43-f7fa-26eeae8c3122"
      },
      "outputs": [
        {
          "data": {
            "text/plain": [
              "array([[ 0,  1,  2,  3,  4],\n",
              "       [ 5,  6,  7,  8,  9],\n",
              "       [10, 11, 12, 13, 14],\n",
              "       [15, 16, 17, 18, 19]])"
            ]
          },
          "execution_count": 32,
          "metadata": {},
          "output_type": "execute_result"
        }
      ],
      "source": [
        "a"
      ]
    },
    {
      "cell_type": "code",
      "execution_count": null,
      "metadata": {
        "id": "2hJhytb2Ld0y",
        "outputId": "b59c2d4f-9741-4839-8497-94cf4491bb6c"
      },
      "outputs": [
        {
          "data": {
            "text/plain": [
              "array([[ 0,  5, 10, 15],\n",
              "       [ 1,  6, 11, 16],\n",
              "       [ 2,  7, 12, 17],\n",
              "       [ 3,  8, 13, 18],\n",
              "       [ 4,  9, 14, 19]])"
            ]
          },
          "execution_count": 33,
          "metadata": {},
          "output_type": "execute_result"
        }
      ],
      "source": [
        "a.T"
      ]
    },
    {
      "cell_type": "code",
      "execution_count": null,
      "metadata": {
        "id": "_LgkGHIQLd0z",
        "outputId": "b8226553-d366-4584-b0f8-e10ac5d4e4e5"
      },
      "outputs": [
        {
          "name": "stderr",
          "output_type": "stream",
          "text": [
            "/var/folders/7_/8px52ys552g8ncjsx6czydyh0000gn/T/ipykernel_17407/2035960674.py:2: VisibleDeprecationWarning: Creating an ndarray from ragged nested sequences (which is a list-or-tuple of lists-or-tuples-or ndarrays with different lengths or shapes) is deprecated. If you meant to do this, you must specify 'dtype=object' when creating the ndarray.\n",
            "  b = np.array([2,2,(2,4)])\n"
          ]
        },
        {
          "data": {
            "text/plain": [
              "array([2, 4, (2, 4, 2, 4, 2, 4)], dtype=object)"
            ]
          },
          "execution_count": 35,
          "metadata": {},
          "output_type": "execute_result"
        }
      ],
      "source": [
        "a = np.array([1,2,3])\n",
        "b = np.array([2,2,(2,4)])\n",
        "a*b"
      ]
    },
    {
      "cell_type": "code",
      "execution_count": null,
      "metadata": {
        "id": "mVEFEGwiLd0z"
      },
      "outputs": [],
      "source": []
    }
  ],
  "metadata": {
    "colab": {
      "provenance": [],
      "include_colab_link": true
    },
    "kernelspec": {
      "display_name": "Python 3 (ipykernel)",
      "language": "python",
      "name": "python3"
    },
    "language_info": {
      "codemirror_mode": {
        "name": "ipython",
        "version": 3
      },
      "file_extension": ".py",
      "mimetype": "text/x-python",
      "name": "python",
      "nbconvert_exporter": "python",
      "pygments_lexer": "ipython3",
      "version": "3.9.13"
    }
  },
  "nbformat": 4,
  "nbformat_minor": 0
}